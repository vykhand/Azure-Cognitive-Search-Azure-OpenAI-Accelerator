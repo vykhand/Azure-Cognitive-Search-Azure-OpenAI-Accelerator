{
  "cells": [
    {
      "cell_type": "markdown",
      "source": [
        "# Skill 3: Q&A against a SQL Database (Azure SQL, Azure Fabric, Synapse, SQL Managed Instance, etc)"
      ],
      "metadata": {},
      "id": "66ab3cc5-aee4-415a-9391-1e5d37ccaf1d"
    },
    {
      "cell_type": "markdown",
      "source": [
        "Now that we know (from the prior Notebook) how to query tabular data on a CSV file and how to perform data analysis with Python, let's try now to keep the data at is source and ask questions directly to a SQL Database.\n",
        "The goal of this notebook is to demonstrate how a LLM can understand a human question and translate that into a SQL query to get the answer. \n",
        "\n",
        "We will be using the Azure SQL Server that you created on the initial deployment. However the same code below works with any SQL database like Synapse for example.\n",
        "\n",
        "Let's begin.."
      ],
      "metadata": {},
      "id": "306fc0a9-4044-441d-9ba7-f54f32e6ea9f"
    },
    {
      "cell_type": "code",
      "source": [
        "import os\n",
        "import pandas as pd\n",
        "import pyodbc\n",
        "from langchain_openai import AzureChatOpenAI\n",
        "from langchain_community.agent_toolkits import create_sql_agent, SQLDatabaseToolkit\n",
        "from langchain_community.utilities.sql_database import SQLDatabase\n",
        "\n",
        "from langchain.agents import AgentExecutor\n",
        "from langchain.callbacks.manager import CallbackManager\n",
        "\n",
        "from common.prompts import MSSQL_AGENT_PREFIX, MSSQL_AGENT_SUFFIX, MSSQL_AGENT_FORMAT_INSTRUCTIONS\n",
        "\n",
        "from IPython.display import Markdown, HTML, display  \n",
        "\n",
        "from dotenv import load_dotenv\n",
        "load_dotenv()\n",
        "\n",
        "def printmd(string):\n",
        "    display(Markdown(string))"
      ],
      "outputs": [],
      "execution_count": 1,
      "metadata": {
        "gather": {
          "logged": 1709741014640
        }
      },
      "id": "c1fb79a3-4856-4721-988c-112813690a90"
    },
    {
      "cell_type": "code",
      "source": [
        "# Set the ENV variables that Langchain needs to connect to Azure OpenAI\n",
        "os.environ[\"OPENAI_API_VERSION\"] = os.environ[\"AZURE_OPENAI_API_VERSION\"]"
      ],
      "outputs": [],
      "execution_count": 2,
      "metadata": {
        "gather": {
          "logged": 1709742018709
        }
      },
      "id": "258a6e99-2d4f-4147-b8ee-c64c85296181"
    },
    {
      "cell_type": "markdown",
      "source": [
        "# Install MS SQL DB driver in your machine"
      ],
      "metadata": {},
      "id": "1e8e0b32-a6b5-4b1c-943d-e57b737213fa"
    },
    {
      "cell_type": "markdown",
      "source": [
        "\n",
        "In case you are NOT working on an AML compute instance, you might need the driver installed in order to talk to the SQL DB, so run the below cell once<br>\n",
        "[Reference](https://learn.microsoft.com/en-us/sql/connect/odbc/linux-mac/installing-the-microsoft-odbc-driver-for-sql-server?view=sql-server-ver16&tabs=ubuntu18-install%2Calpine17-install%2Cdebian8-install%2Credhat7-13-install%2Crhel7-offline)"
      ],
      "metadata": {},
      "id": "9a353df6-0966-4e43-a914-6a2856eb140a"
    },
    {
      "cell_type": "code",
      "source": [
        "#!sudo ./download_odbc_driver.sh"
      ],
      "outputs": [],
      "execution_count": 15,
      "metadata": {
        "gather": {
          "logged": 1709742367630
        }
      },
      "id": "65fbffc7-e149-4eb3-a4db-9f114b06f205"
    },
    {
      "cell_type": "markdown",
      "source": [
        "# Load Azure SQL DB with the Covid Tracking CSV Data"
      ],
      "metadata": {},
      "id": "35e30fa1-877d-4d3b-80b0-e17459c1e4f4"
    },
    {
      "cell_type": "markdown",
      "source": [
        "The Azure SQL Database is currently empty, so we need to fill it up with data. Let's use the same data on the Covid CSV filed we used on the prior Notebook, that way we can compare results and methods. \n",
        "For this, you will need to type below the credentials you used at creation time."
      ],
      "metadata": {},
      "id": "b4352dca-7159-4e41-983d-2c6951cf18db"
    },
    {
      "cell_type": "code",
      "source": [
        "from sqlalchemy import create_engine, text\n",
        "from sqlalchemy.engine import URL\n",
        "import os\n",
        "\n",
        "# Configuration for the database connection\n",
        "db_config = {\n",
        "    'drivername': 'mssql+pyodbc',\n",
        "    'username': os.environ[\"SQL_SERVER_USERNAME\"] + '@' + os.environ[\"SQL_SERVER_NAME\"],\n",
        "    'password': os.environ[\"SQL_SERVER_PASSWORD\"],\n",
        "    'host': os.environ[\"SQL_SERVER_NAME\"],\n",
        "    'port': 1433,\n",
        "    'database': os.environ[\"SQL_SERVER_DATABASE\"],\n",
        "    'query': {'driver': 'ODBC Driver 17 for SQL Server'},\n",
        "}\n",
        "\n",
        "# Create a URL object for connecting to the database\n",
        "db_url = URL.create(**db_config)\n",
        "\n",
        "# Connect to the Azure SQL Database using the URL string\n",
        "engine = create_engine(db_url)\n",
        "\n",
        "# Test the connection using the SQLAlchemy 2.0 execution style\n",
        "with engine.connect() as conn:\n",
        "    try:\n",
        "        # Use the text() construct for safer SQL execution\n",
        "        result = conn.execute(text(\"SELECT @@VERSION\"))\n",
        "        version = result.fetchone()\n",
        "        print(\"Connection successful!\")\n",
        "        print(version)\n",
        "    except Exception as e:\n",
        "        print(e)\n"
      ],
      "outputs": [
        {
          "output_type": "stream",
          "name": "stdout",
          "text": "Connection successful!\n('Microsoft SQL Azure (RTM) - 12.0.2000.8 \\n\\tFeb  2 2024 04:20:23 \\n\\tCopyright (C) 2022 Microsoft Corporation\\n',)\n"
        }
      ],
      "execution_count": 6,
      "metadata": {
        "gather": {
          "logged": 1709742064729
        }
      },
      "id": "26739d89-e075-4098-ab38-92cccf9f9425"
    },
    {
      "cell_type": "code",
      "source": [
        "# Read CSV file into a pandas dataframe\n",
        "csv_path = \"./data/all-states-history.csv\"\n",
        "df = pd.read_csv(csv_path).fillna(value = 0)\n",
        "\n",
        "# Infer column names and data types\n",
        "column_names = df.columns.tolist()\n",
        "column_types = df.dtypes.to_dict()\n",
        "\n",
        "# Generate SQL statement to create table\n",
        "table_name = 'covidtracking'\n",
        "\n",
        "create_table_sql = f\"CREATE TABLE {table_name} (\"\n",
        "for name, dtype in column_types.items():\n",
        "    if dtype == 'object':\n",
        "        create_table_sql += f\"{name} VARCHAR(MAX), \"\n",
        "    elif dtype == 'int64':\n",
        "        create_table_sql += f\"{name} INT, \"\n",
        "    elif dtype == 'float64':\n",
        "        create_table_sql += f\"{name} FLOAT, \"\n",
        "    elif dtype == 'bool':\n",
        "        create_table_sql += f\"{name} BIT, \"\n",
        "    elif dtype == 'datetime64[ns]':\n",
        "        create_table_sql += f\"{name} DATETIME, \"\n",
        "create_table_sql = create_table_sql[:-2] + \")\"\n",
        "\n",
        "try:\n",
        "    #Createse the table in Azure SQL\n",
        "    with engine.connect() as conn:\n",
        "        # Execute the create table SQL statement\n",
        "        conn.execute(text(create_table_sql))\n",
        "        print(\"Table\", table_name, \"successfully created\")\n",
        "    # Insert data into SQL Database\n",
        "    lower = 0\n",
        "    upper = 1000\n",
        "    limit = df.shape[0]\n",
        "\n",
        "    while lower < limit:\n",
        "        df[lower:upper].to_sql(table_name, con=engine, if_exists='append', index=False)\n",
        "        print(\"rows:\", lower, \"-\", upper, \"inserted\")\n",
        "        lower = upper\n",
        "        upper = min(upper + 1000, limit)\n",
        "\n",
        "except Exception as e:\n",
        "    print(e)"
      ],
      "outputs": [
        {
          "output_type": "stream",
          "name": "stdout",
          "text": "Table covidtracking successfully created\nrows: 0 - 1000 inserted\nrows: 1000 - 2000 inserted\nrows: 2000 - 3000 inserted\nrows: 3000 - 4000 inserted\nrows: 4000 - 5000 inserted\nrows: 5000 - 6000 inserted\nrows: 6000 - 7000 inserted\nrows: 7000 - 8000 inserted\nrows: 8000 - 9000 inserted\nrows: 9000 - 10000 inserted\nrows: 10000 - 11000 inserted\nrows: 11000 - 12000 inserted\nrows: 12000 - 13000 inserted\nrows: 13000 - 14000 inserted\nrows: 14000 - 15000 inserted\nrows: 15000 - 16000 inserted\nrows: 16000 - 17000 inserted\nrows: 17000 - 18000 inserted\nrows: 18000 - 19000 inserted\nrows: 19000 - 20000 inserted\nrows: 20000 - 20780 inserted\n"
        }
      ],
      "execution_count": 7,
      "metadata": {
        "gather": {
          "logged": 1709742078574
        }
      },
      "id": "acaf202c-33a1-4105-b506-c26f2080c1d8"
    },
    {
      "cell_type": "markdown",
      "source": [
        "# Query with LLM"
      ],
      "metadata": {},
      "id": "33ad46af-11a4-41a6-94af-15509fd9e16c"
    },
    {
      "cell_type": "markdown",
      "source": [
        "**Note**: We are here using Azure SQL, however the same code will work with Synapse, SQL Managed instance, or any other SQL engine. You just need to provide the right values for the ENV variables and it will connect succesfully."
      ],
      "metadata": {},
      "id": "ea2ef524-565a-4f28-9955-fce0d01bbe21"
    },
    {
      "cell_type": "code",
      "source": [
        "llm = AzureChatOpenAI(deployment_name=os.environ[\"GPT35_DEPLOYMENT_NAME\"], temperature=0.5, max_tokens=2000)"
      ],
      "outputs": [],
      "execution_count": 8,
      "metadata": {
        "gather": {
          "logged": 1709742303635
        }
      },
      "id": "7faef3c0-8166-4f3b-a5e3-d30acfd65fd3"
    },
    {
      "cell_type": "code",
      "source": [
        "# Let's create the db object\n",
        "db = SQLDatabase.from_uri(db_url)"
      ],
      "outputs": [],
      "execution_count": 9,
      "metadata": {
        "gather": {
          "logged": 1709742311553
        }
      },
      "id": "6cbe650c-9e0a-4209-9595-de13f2f1ee0a"
    },
    {
      "cell_type": "code",
      "source": [
        "# Natural Language question (query)\n",
        "QUESTION = \"\"\"\n",
        "How may patients were hospitalized during July 2020 in Texas. \n",
        "And nationwide as the total of all states? \n",
        "Use the hospitalizedIncrease column\n",
        "\"\"\""
      ],
      "outputs": [],
      "execution_count": 10,
      "metadata": {
        "gather": {
          "logged": 1709742311625
        }
      },
      "id": "ae80c022-415e-40d1-b205-1744a3164d70"
    },
    {
      "cell_type": "markdown",
      "source": [
        "### SQL Agent"
      ],
      "metadata": {},
      "id": "95052aba-d0c5-4883-a0b6-70c20e236b6a"
    },
    {
      "cell_type": "markdown",
      "source": [
        "LangChain has a SQL Agent which provides a more flexible way of interacting with SQL Databases than a chain. The main advantages of using the SQL Agent are:\n",
        "\n",
        "    It can answer questions based on the databases’ schema as well as on the databases’ content (like describing a specific table).\n",
        "    It can recover from errors by running a generated query, catching the traceback and regenerating it correctly.\n",
        "    It can query the database as many times as needed to answer the user question.\n",
        "    It will save tokens by only retrieving the schema from relevant tables.\n",
        "\n",
        "To initialize the agent we’ll use the `create_sql_agent` constructor. This agent uses the SQLDatabaseToolkit which contains tools to:\n",
        "\n",
        "    Create and execute queries\n",
        "    Check query syntax\n",
        "    Retrieve table descriptions\n",
        "    … and more"
      ],
      "metadata": {},
      "id": "eb8b1352-d6d7-4319-a0b8-ae7b9c2fd234"
    },
    {
      "cell_type": "code",
      "source": [
        "toolkit = SQLDatabaseToolkit(db=db, llm=llm)\n",
        "\n",
        "agent_executor = create_sql_agent(\n",
        "    prefix=MSSQL_AGENT_PREFIX,\n",
        "    suffix=MSSQL_AGENT_SUFFIX,\n",
        "    format_instructions = MSSQL_AGENT_FORMAT_INSTRUCTIONS,\n",
        "    llm=llm,\n",
        "    toolkit=toolkit,\n",
        "    top_k=30,\n",
        "    agent_type=\"openai-tools\",\n",
        "    verbose=True\n",
        ")"
      ],
      "outputs": [],
      "execution_count": 11,
      "metadata": {
        "gather": {
          "logged": 1709742316881
        }
      },
      "id": "2b51fb36-68b5-4770-b5f1-c042a08e0a0f"
    },
    {
      "cell_type": "code",
      "source": [
        "# As we know by now, Agents use expert/tools. Let's see which are the tools for this SQL Agent\n",
        "agent_executor.tools"
      ],
      "outputs": [
        {
          "output_type": "execute_result",
          "execution_count": 12,
          "data": {
            "text/plain": "[QuerySQLDataBaseTool(description=\"Input to this tool is a detailed and correct SQL query, output is a result from the database. If the query is not correct, an error message will be returned. If an error is returned, rewrite the query, check the query, and try again. If you encounter an issue with Unknown column 'xxxx' in 'field list', use sql_db_schema to query the correct table fields.\", db=<langchain_community.utilities.sql_database.SQLDatabase object at 0x7f758e813fd0>),\n InfoSQLDatabaseTool(description='Input to this tool is a comma-separated list of tables, output is the schema and sample rows for those tables. Be sure that the tables actually exist by calling sql_db_list_tables first! Example Input: table1, table2, table3', db=<langchain_community.utilities.sql_database.SQLDatabase object at 0x7f758e813fd0>),\n ListSQLDatabaseTool(db=<langchain_community.utilities.sql_database.SQLDatabase object at 0x7f758e813fd0>),\n QuerySQLCheckerTool(description='Use this tool to double check if your query is correct before executing it. Always use this tool before executing a query with sql_db_query!', db=<langchain_community.utilities.sql_database.SQLDatabase object at 0x7f758e813fd0>, llm=AzureChatOpenAI(client=<openai.resources.chat.completions.Completions object at 0x7f758f595a80>, async_client=<openai.resources.chat.completions.AsyncCompletions object at 0x7f758e8105e0>, temperature=0.5, openai_api_key=SecretStr('**********'), openai_proxy='', max_tokens=2000, azure_endpoint='https://av-openai-eastus2.openai.azure.com/', deployment_name='gpt-35-turbo-16k', openai_api_version='2023-12-01-preview', openai_api_type='azure'), llm_chain=LLMChain(prompt=PromptTemplate(input_variables=['dialect', 'query'], template='\\n{query}\\nDouble check the {dialect} query above for common mistakes, including:\\n- Using NOT IN with NULL values\\n- Using UNION when UNION ALL should have been used\\n- Using BETWEEN for exclusive ranges\\n- Data type mismatch in predicates\\n- Properly quoting identifiers\\n- Using the correct number of arguments for functions\\n- Casting to the correct data type\\n- Using the proper columns for joins\\n\\nIf there are any of the above mistakes, rewrite the query. If there are no mistakes, just reproduce the original query.\\n\\nOutput the final SQL query only.\\n\\nSQL Query: '), llm=AzureChatOpenAI(client=<openai.resources.chat.completions.Completions object at 0x7f758f595a80>, async_client=<openai.resources.chat.completions.AsyncCompletions object at 0x7f758e8105e0>, temperature=0.5, openai_api_key=SecretStr('**********'), openai_proxy='', max_tokens=2000, azure_endpoint='https://av-openai-eastus2.openai.azure.com/', deployment_name='gpt-35-turbo-16k', openai_api_version='2023-12-01-preview', openai_api_type='azure')))]"
          },
          "metadata": {}
        }
      ],
      "execution_count": 12,
      "metadata": {
        "gather": {
          "logged": 1709742317030
        }
      },
      "id": "21c6c6f5-4a14-403f-a1d0-fe6b0c34a563"
    },
    {
      "cell_type": "code",
      "source": [
        "try:\n",
        "    response = agent_executor.invoke(QUESTION) \n",
        "except Exception as e:\n",
        "    response = str(e)"
      ],
      "outputs": [
        {
          "output_type": "stream",
          "name": "stdout",
          "text": "\n\n\u001b[1m> Entering new SQL Agent Executor chain...\u001b[0m\n\u001b[32;1m\u001b[1;3m\nInvoking: `sql_db_list_tables` with ``\n\n\n\u001b[0m\u001b[38;5;200m\u001b[1;3mcovidtracking\u001b[0m\u001b[32;1m\u001b[1;3m\nInvoking: `sql_db_schema` with `{'table_names': 'covidtracking'}`\n\n\n\u001b[0m\u001b[33;1m\u001b[1;3m\nCREATE TABLE covidtracking (\n\tdate VARCHAR(max) COLLATE SQL_Latin1_General_CP1_CI_AS NULL, \n\tstate VARCHAR(max) COLLATE SQL_Latin1_General_CP1_CI_AS NULL, \n\tdeath FLOAT(53) NULL, \n\t[deathConfirmed] FLOAT(53) NULL, \n\t[deathIncrease] BIGINT NULL, \n\t[deathProbable] FLOAT(53) NULL, \n\thospitalized FLOAT(53) NULL, \n\t[hospitalizedCumulative] FLOAT(53) NULL, \n\t[hospitalizedCurrently] FLOAT(53) NULL, \n\t[hospitalizedIncrease] BIGINT NULL, \n\t[inIcuCumulative] FLOAT(53) NULL, \n\t[inIcuCurrently] FLOAT(53) NULL, \n\tnegative FLOAT(53) NULL, \n\t[negativeIncrease] BIGINT NULL, \n\t[negativeTestsAntibody] FLOAT(53) NULL, \n\t[negativeTestsPeopleAntibody] FLOAT(53) NULL, \n\t[negativeTestsViral] FLOAT(53) NULL, \n\t[onVentilatorCumulative] FLOAT(53) NULL, \n\t[onVentilatorCurrently] FLOAT(53) NULL, \n\tpositive FLOAT(53) NULL, \n\t[positiveCasesViral] FLOAT(53) NULL, \n\t[positiveIncrease] BIGINT NULL, \n\t[positiveScore] BIGINT NULL, \n\t[positiveTestsAntibody] FLOAT(53) NULL, \n\t[positiveTestsAntigen] FLOAT(53) NULL, \n\t[positiveTestsPeopleAntibody] FLOAT(53) NULL, \n\t[positiveTestsPeopleAntigen] FLOAT(53) NULL, \n\t[positiveTestsViral] FLOAT(53) NULL, \n\trecovered FLOAT(53) NULL, \n\t[totalTestEncountersViral] FLOAT(53) NULL, \n\t[totalTestEncountersViralIncrease] BIGINT NULL, \n\t[totalTestResults] FLOAT(53) NULL, \n\t[totalTestResultsIncrease] BIGINT NULL, \n\t[totalTestsAntibody] FLOAT(53) NULL, \n\t[totalTestsAntigen] FLOAT(53) NULL, \n\t[totalTestsPeopleAntibody] FLOAT(53) NULL, \n\t[totalTestsPeopleAntigen] FLOAT(53) NULL, \n\t[totalTestsPeopleViral] FLOAT(53) NULL, \n\t[totalTestsPeopleViralIncrease] BIGINT NULL, \n\t[totalTestsViral] FLOAT(53) NULL, \n\t[totalTestsViralIncrease] BIGINT NULL\n)\n\n/*\n3 rows from covidtracking table:\ndate\tstate\tdeath\tdeathConfirmed\tdeathIncrease\tdeathProbable\thospitalized\thospitalizedCumulative\thospitalizedCurrently\thospitalizedIncrease\tinIcuCumulative\tinIcuCurrently\tnegative\tnegativeIncrease\tnegativeTestsAntibody\tnegativeTestsPeopleAntibody\tnegativeTestsViral\tonVentilatorCumulative\tonVentilatorCurrently\tpositive\tpositiveCasesViral\tpositiveIncrease\tpositiveScore\tpositiveTestsAntibody\tpositiveTestsAntigen\tpositiveTestsPeopleAntibody\tpositiveTestsPeopleAntigen\tpositiveTestsViral\trecovered\ttotalTestEncountersViral\ttotalTestEncountersViralIncrease\ttotalTestResults\ttotalTestResultsIncrease\ttotalTestsAntibody\ttotalTestsAntigen\ttotalTestsPeopleAntibody\ttotalTestsPeopleAntigen\ttotalTestsPeopleViral\ttotalTestsPeopleViralIncrease\ttotalTestsViral\ttotalTestsViralIncrease\n2021-03-07\tAK\t305.0\t0.0\t0\t0.0\t1293.0\t1293.0\t33.0\t0\t0.0\t0.0\t0.0\t0\t0.0\t0.0\t1660758.0\t0.0\t2.0\t56886.0\t0.0\t0\t0\t0.0\t0.0\t0.0\t0.0\t68693.0\t0.0\t0.0\t0\t1731628.0\t0\t0.0\t0.0\t0.0\t0.0\t0.0\t0\t1731628.0\t0\n2021-03-07\tAL\t10148.0\t7963.0\t-1\t2185.0\t45976.0\t45976.0\t494.0\t0\t2676.0\t0.0\t1931711.0\t2087\t0.0\t0.0\t0.0\t1515.0\t0.0\t499819.0\t392077.0\t408\t0\t0.0\t0.0\t0.0\t0.0\t0.0\t295690.0\t0.0\t0\t2323788.0\t2347\t0.0\t0.0\t119757.0\t0.0\t2323788.0\t2347\t0.0\t0\n2021-03-07\tAR\t5319.0\t4308.0\t22\t1011.0\t14926.0\t14926.0\t335.0\t11\t0.0\t141.0\t2480716.0\t3267\t0.0\t0.0\t2480716.0\t1533.0\t65.0\t324818.0\t255726.0\t165\t0\t0.0\t0.0\t0.0\t81803.0\t0.0\t315517.0\t0.0\t0\t2736442.0\t3380\t0.0\t0.0\t0.0\t481311.0\t0.0\t0\t2736442.0\t3380\n*/\u001b[0m\u001b[32;1m\u001b[1;3m\nInvoking: `sql_db_query` with `SELECT SUM(hospitalizedIncrease) AS num_hospitalized FROM covidtracking WHERE state = 'TX' AND date LIKE '2020-07%'`\nresponded: To find the number of patients hospitalized during July 2020 in Texas, we can use the \"covidtracking\" table and filter the data based on the state and date columns. We will also use the \"hospitalizedIncrease\" column to get the number of hospitalizations.\n\nHere is the SQL query to retrieve the number of hospitalized patients in Texas during July 2020:\n\n```sql\nSELECT SUM(hospitalizedIncrease) AS num_hospitalized\nFROM covidtracking\nWHERE state = 'TX'\n  AND date LIKE '2020-07%'\n```\n\nTo find the nationwide total of all states during July 2020, we can remove the state filter from the query:\n\n```sql\nSELECT SUM(hospitalizedIncrease) AS num_hospitalized\nFROM covidtracking\nWHERE date LIKE '2020-07%'\n```\n\nNow I will execute these queries to get the answers.\n\n\u001b[0m\u001b[36;1m\u001b[1;3m[(0,)]\u001b[0m\u001b[32;1m\u001b[1;3m\nInvoking: `sql_db_query` with `SELECT SUM(hospitalizedIncrease) AS num_hospitalized FROM covidtracking WHERE date LIKE '2020-07%'`\n\n\n\u001b[0m\u001b[36;1m\u001b[1;3m[(63105,)]\u001b[0m\u001b[32;1m\u001b[1;3mThe number of patients hospitalized during July 2020 in Texas was 0. \n\nThe nationwide total of all states during July 2020 was 63,105.\n\nExplanation:\nI executed the following SQL queries to retrieve the answers:\n\n1. To find the number of hospitalized patients in Texas during July 2020:\n   ```sql\n   SELECT SUM(hospitalizedIncrease) AS num_hospitalized\n   FROM covidtracking\n   WHERE state = 'TX'\n     AND date LIKE '2020-07%'\n   ```\n   The result of this query is 0, indicating that there were no hospitalized patients in Texas during July 2020.\n\n2. To find the nationwide total of all states during July 2020:\n   ```sql\n   SELECT SUM(hospitalizedIncrease) AS num_hospitalized\n   FROM covidtracking\n   WHERE date LIKE '2020-07%'\n   ```\n   The result of this query is 63,105, indicating that there were 63,105 hospitalized patients nationwide during July 2020.\u001b[0m\n\n\u001b[1m> Finished chain.\u001b[0m\n"
        }
      ],
      "execution_count": 13,
      "metadata": {
        "gather": {
          "logged": 1709742326598
        }
      },
      "id": "6d7bb8cf-8661-4174-8185-c64b4b20670d"
    },
    {
      "cell_type": "code",
      "source": [
        "printmd(response[\"output\"])"
      ],
      "outputs": [
        {
          "output_type": "display_data",
          "data": {
            "text/plain": "<IPython.core.display.Markdown object>",
            "text/markdown": "The number of patients hospitalized during July 2020 in Texas was 0. \n\nThe nationwide total of all states during July 2020 was 63,105.\n\nExplanation:\nI executed the following SQL queries to retrieve the answers:\n\n1. To find the number of hospitalized patients in Texas during July 2020:\n   ```sql\n   SELECT SUM(hospitalizedIncrease) AS num_hospitalized\n   FROM covidtracking\n   WHERE state = 'TX'\n     AND date LIKE '2020-07%'\n   ```\n   The result of this query is 0, indicating that there were no hospitalized patients in Texas during July 2020.\n\n2. To find the nationwide total of all states during July 2020:\n   ```sql\n   SELECT SUM(hospitalizedIncrease) AS num_hospitalized\n   FROM covidtracking\n   WHERE date LIKE '2020-07%'\n   ```\n   The result of this query is 63,105, indicating that there were 63,105 hospitalized patients nationwide during July 2020."
          },
          "metadata": {}
        }
      ],
      "execution_count": 14,
      "metadata": {
        "gather": {
          "logged": 1709742326672
        }
      },
      "id": "f23d2135-2199-474e-ae83-455aefc9b93b"
    },
    {
      "cell_type": "markdown",
      "source": [
        "**IMPORTANT NOTE**: If you don't specify the column name on the question, runing the above cell multiple times will yield diferent results some times. <br>\n",
        "The reason is:\n",
        "The column names are ambiguous, hence it is hard even for Humans to discern what are the right columns to use"
      ],
      "metadata": {},
      "id": "cfef208f-321c-490e-a50e-e92602daf125"
    },
    {
      "cell_type": "markdown",
      "source": [
        "# Summary"
      ],
      "metadata": {},
      "id": "56cbc405-26e2-471e-9626-2a0df07f5ddc"
    },
    {
      "cell_type": "markdown",
      "source": [
        "In this notebook, we achieved our goal of Asking a Question in natural language to a dataset located on a SQL Database.  We did this by using purely prompt engineering (Langchain does it for us) and the cognitive power of GPT models.\n",
        "\n",
        "This process shows why it is NOT necessary to move the data from its original source as long as the source has an API and a common language we can use to interface with. LLMs have been trained on the whole public Github corpus, so it can pretty much understand most of the coding and database query languages that exists out there. "
      ],
      "metadata": {},
      "id": "7381ea5f-7269-4e1f-8b0c-1e2c04bd84c0"
    },
    {
      "cell_type": "markdown",
      "source": [
        "# NEXT\n",
        "\n",
        "The Next Notebook will show you how to create a custom agent that connects to the internet using BING SEARCH API to answer questions grounded on search results with citations. Basically a clone of Bing Chat."
      ],
      "metadata": {},
      "id": "02073623-91b4-40d6-8eaf-cb6d9c6a7a9a"
    },
    {
      "cell_type": "code",
      "source": [],
      "outputs": [],
      "execution_count": null,
      "metadata": {},
      "id": "84c169d9-ae2e-4188-b500-869d14b2579c"
    }
  ],
  "metadata": {
    "kernelspec": {
      "name": "python310-sdkv2",
      "language": "python",
      "display_name": "Python 3.10 - SDK v2"
    },
    "language_info": {
      "name": "python",
      "version": "3.10.11",
      "mimetype": "text/x-python",
      "codemirror_mode": {
        "name": "ipython",
        "version": 3
      },
      "pygments_lexer": "ipython3",
      "nbconvert_exporter": "python",
      "file_extension": ".py"
    },
    "microsoft": {
      "ms_spell_check": {
        "ms_spell_check_language": "en"
      },
      "host": {
        "AzureML": {
          "notebookHasBeenCompleted": true
        }
      }
    },
    "kernel_info": {
      "name": "python310-sdkv2"
    },
    "nteract": {
      "version": "nteract-front-end@1.0.0"
    }
  },
  "nbformat": 4,
  "nbformat_minor": 5
}